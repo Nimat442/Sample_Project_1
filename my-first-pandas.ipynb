{
 "cells": [
  {
   "cell_type": "code",
   "execution_count": 1,
   "id": "46aecdea-66fd-4bab-b235-19a0d8f365c3",
   "metadata": {},
   "outputs": [],
   "source": [
    "import pandas as pd"
   ]
  },
  {
   "cell_type": "code",
   "execution_count": 2,
   "id": "e9b18352-6447-4528-8e86-c8c06cca5177",
   "metadata": {},
   "outputs": [],
   "source": [
    "name = pd.Series([\"Nimat\", \"Caleb\", \"Gana\"])"
   ]
  },
  {
   "cell_type": "code",
   "execution_count": 3,
   "id": "df1e9dbe-b786-418a-b133-ac69c105f1a9",
   "metadata": {},
   "outputs": [
    {
     "data": {
      "text/plain": [
       "0    Nimat\n",
       "1    Caleb\n",
       "2     Gana\n",
       "dtype: object"
      ]
     },
     "execution_count": 3,
     "metadata": {},
     "output_type": "execute_result"
    }
   ],
   "source": [
    "name"
   ]
  },
  {
   "cell_type": "code",
   "execution_count": 5,
   "id": "dbb75206-adf2-4b63-827d-dc29c1f26a4b",
   "metadata": {},
   "outputs": [],
   "source": [
    "surname = pd.Series([\"Audu\", \"Kur\", \"Kabir\"]) "
   ]
  },
  {
   "cell_type": "code",
   "execution_count": 6,
   "id": "5f5ed90b-d4d0-46e2-b323-e0f5c2305756",
   "metadata": {},
   "outputs": [
    {
     "data": {
      "text/plain": [
       "0     Audu\n",
       "1      Kur\n",
       "2    Kabir\n",
       "dtype: object"
      ]
     },
     "execution_count": 6,
     "metadata": {},
     "output_type": "execute_result"
    }
   ],
   "source": [
    "surname"
   ]
  },
  {
   "cell_type": "code",
   "execution_count": 16,
   "id": "083a9c42-0e9b-43da-b09c-38888f38fbd6",
   "metadata": {},
   "outputs": [],
   "source": [
    "full_name = pd.DataFrame({\"Name\": name, \"Surname\": surname})"
   ]
  },
  {
   "cell_type": "code",
   "execution_count": 17,
   "id": "f04bd0d3-2d0e-492b-bd93-65a99bc173e9",
   "metadata": {},
   "outputs": [
    {
     "data": {
      "text/html": [
       "<div>\n",
       "<style scoped>\n",
       "    .dataframe tbody tr th:only-of-type {\n",
       "        vertical-align: middle;\n",
       "    }\n",
       "\n",
       "    .dataframe tbody tr th {\n",
       "        vertical-align: top;\n",
       "    }\n",
       "\n",
       "    .dataframe thead th {\n",
       "        text-align: right;\n",
       "    }\n",
       "</style>\n",
       "<table border=\"1\" class=\"dataframe\">\n",
       "  <thead>\n",
       "    <tr style=\"text-align: right;\">\n",
       "      <th></th>\n",
       "      <th>Name</th>\n",
       "      <th>Surname</th>\n",
       "    </tr>\n",
       "  </thead>\n",
       "  <tbody>\n",
       "    <tr>\n",
       "      <th>0</th>\n",
       "      <td>Nimat</td>\n",
       "      <td>Audu</td>\n",
       "    </tr>\n",
       "    <tr>\n",
       "      <th>1</th>\n",
       "      <td>Caleb</td>\n",
       "      <td>Kur</td>\n",
       "    </tr>\n",
       "    <tr>\n",
       "      <th>2</th>\n",
       "      <td>Gana</td>\n",
       "      <td>Kabir</td>\n",
       "    </tr>\n",
       "  </tbody>\n",
       "</table>\n",
       "</div>"
      ],
      "text/plain": [
       "    Name Surname\n",
       "0  Nimat    Audu\n",
       "1  Caleb     Kur\n",
       "2   Gana   Kabir"
      ]
     },
     "execution_count": 17,
     "metadata": {},
     "output_type": "execute_result"
    }
   ],
   "source": [
    "full_name"
   ]
  }
 ],
 "metadata": {
  "kernelspec": {
   "display_name": "Python 3 (ipykernel)",
   "language": "python",
   "name": "python3"
  },
  "language_info": {
   "codemirror_mode": {
    "name": "ipython",
    "version": 3
   },
   "file_extension": ".py",
   "mimetype": "text/x-python",
   "name": "python",
   "nbconvert_exporter": "python",
   "pygments_lexer": "ipython3",
   "version": "3.12.7"
  }
 },
 "nbformat": 4,
 "nbformat_minor": 5
}
